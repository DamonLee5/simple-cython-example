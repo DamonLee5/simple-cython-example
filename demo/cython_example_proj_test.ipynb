{
 "cells": [
  {
   "cell_type": "code",
   "execution_count": 1,
   "metadata": {},
   "outputs": [],
   "source": [
    "import numpy as np\n",
    "from cython_example_proj import c_square, c_rms, c_rmse\n",
    "import time"
   ]
  },
  {
   "cell_type": "markdown",
   "metadata": {},
   "source": [
    "# Test"
   ]
  },
  {
   "cell_type": "markdown",
   "metadata": {},
   "source": [
    "## Test Square Function"
   ]
  },
  {
   "cell_type": "code",
   "execution_count": 2,
   "metadata": {},
   "outputs": [
    {
     "name": "stdout",
     "output_type": "stream",
     "text": [
      "100\n"
     ]
    }
   ],
   "source": [
    "print(c_square(10))"
   ]
  },
  {
   "cell_type": "markdown",
   "metadata": {},
   "source": [
    "## Test Root Mean Square"
   ]
  },
  {
   "cell_type": "code",
   "execution_count": 3,
   "metadata": {},
   "outputs": [
    {
     "name": "stdout",
     "output_type": "stream",
     "text": [
      "('a:', array([1, 2, 3, 4, 5], dtype=int32))\n",
      "3.31662487984\n"
     ]
    }
   ],
   "source": [
    "a= np.array([1,2,3,4,5]).astype('int32')\n",
    "print('a:',a)\n",
    "print(c_rms(a,5))"
   ]
  },
  {
   "cell_type": "markdown",
   "metadata": {},
   "source": [
    "## Test Root Mean Square Error "
   ]
  },
  {
   "cell_type": "code",
   "execution_count": 4,
   "metadata": {},
   "outputs": [
    {
     "name": "stdout",
     "output_type": "stream",
     "text": [
      "('b1:', array([1, 2, 3, 4, 5], dtype=int32))\n",
      "('b2:', array([ 2,  4,  6,  8, 10], dtype=int32))\n",
      "3.31662487984\n"
     ]
    }
   ],
   "source": [
    "# Basic test with case 1\n",
    "b1=a\n",
    "b2=a*2\n",
    "print('b1:',b1)\n",
    "print('b2:',b2)\n",
    "print(c_rmse(b1,b2,5))"
   ]
  },
  {
   "cell_type": "code",
   "execution_count": null,
   "metadata": {},
   "outputs": [],
   "source": [
    "# Basic test with case 2\n",
    "arr_size=50000\n",
    "b1=np.random.randint(100,size=arr_size).astype('int32')\n",
    "b2=b1+np.random.randint(low=-10,high=10,size=arr_size).astype('int32')\n",
    "print('b1:',b1)\n",
    "print('b2:',b2)\n",
    "print(c_rmse(b1,b2,arr_size))"
   ]
  },
  {
   "cell_type": "code",
   "execution_count": 14,
   "metadata": {},
   "outputs": [],
   "source": [
    "# numpy version rmse function\n",
    "def rmse(arr1, arr2, n):\n",
    "    square=0\n",
    "#     for i in range(n):\n",
    "#         square+=(arr1[i]-arr2[i])**2\n",
    "    \n",
    "    return np.sqrt(np.mean((arr1-arr2)**2)).astype(np.float32)"
   ]
  },
  {
   "cell_type": "code",
   "execution_count": 15,
   "metadata": {},
   "outputs": [
    {
     "name": "stdout",
     "output_type": "stream",
     "text": [
      "cython rmse: 5.788103\n",
      "cython finished : 0.000679 s\n",
      "numpy rmse: 5.788103\n",
      "numpy finished : 0.006077 s\n",
      "0.0\n"
     ]
    }
   ],
   "source": [
    "# Compare time between two different implementation\n",
    "t = time.time()\n",
    "cc_rmse=c_rmse(b1,b2,arr_size)\n",
    "print('cython rmse: %07f'%cc_rmse)\n",
    "print(\"cython finished : %f s\"%(time.time() - t))\n",
    "\n",
    "t = time.time()\n",
    "np_rmse=rmse(b1,b2,arr_size)\n",
    "print('numpy rmse: %07f'%np_rmse)\n",
    "print(\"numpy finished : %f s\"%(time.time() - t))\n",
    "\n",
    "print(cc_rmse-np_rmse)"
   ]
  },
  {
   "cell_type": "code",
   "execution_count": null,
   "metadata": {},
   "outputs": [],
   "source": []
  },
  {
   "cell_type": "code",
   "execution_count": null,
   "metadata": {},
   "outputs": [],
   "source": []
  }
 ],
 "metadata": {
  "kernelspec": {
   "display_name": "Python 2",
   "language": "python",
   "name": "python2"
  },
  "language_info": {
   "codemirror_mode": {
    "name": "ipython",
    "version": 2
   },
   "file_extension": ".py",
   "mimetype": "text/x-python",
   "name": "python",
   "nbconvert_exporter": "python",
   "pygments_lexer": "ipython2",
   "version": "2.7.15"
  }
 },
 "nbformat": 4,
 "nbformat_minor": 2
}
